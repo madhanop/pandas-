{
 "cells": [
  {
   "cell_type": "code",
   "execution_count": 2,
   "id": "bd364e5b",
   "metadata": {},
   "outputs": [
    {
     "data": {
      "text/plain": [
       "A    1.618627\n",
       "B    0.836646\n",
       "dtype: float64"
      ]
     },
     "execution_count": 2,
     "metadata": {},
     "output_type": "execute_result"
    }
   ],
   "source": [
    "import pandas as pd\n",
    "data = pd.read_excel(\"C:/Users/madhan/Documents/madhan .xlsx\")\n",
    "data.mean()\n",
    "data.mode()\n",
    "data.median()\n",
    "data.std()\n",
    "data.var()\n",
    "data.skew()\n",
    "data.kurt()"
   ]
  },
  {
   "cell_type": "code",
   "execution_count": null,
   "id": "3813ac90",
   "metadata": {},
   "outputs": [],
   "source": []
  }
 ],
 "metadata": {
  "kernelspec": {
   "display_name": "Python 3 (ipykernel)",
   "language": "python",
   "name": "python3"
  },
  "language_info": {
   "codemirror_mode": {
    "name": "ipython",
    "version": 3
   },
   "file_extension": ".py",
   "mimetype": "text/x-python",
   "name": "python",
   "nbconvert_exporter": "python",
   "pygments_lexer": "ipython3",
   "version": "3.9.7"
  }
 },
 "nbformat": 4,
 "nbformat_minor": 5
}
